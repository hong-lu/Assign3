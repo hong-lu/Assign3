{
  "nbformat": 4,
  "nbformat_minor": 0,
  "metadata": {
    "colab": {
      "name": "comp7404 - Assignment 4",
      "provenance": [],
      "collapsed_sections": [],
      "include_colab_link": true
    },
    "kernelspec": {
      "name": "python3",
      "display_name": "Python 3"
    }
  },
  "cells": [
    {
      "cell_type": "markdown",
      "metadata": {
        "id": "view-in-github",
        "colab_type": "text"
      },
      "source": [
        "<a href=\"https://colab.research.google.com/github/hong-lu/Assign3/blob/master/comp7404_Assignment_4.ipynb\" target=\"_parent\"><img src=\"https://colab.research.google.com/assets/colab-badge.svg\" alt=\"Open In Colab\"/></a>"
      ]
    },
    {
      "cell_type": "markdown",
      "metadata": {
        "id": "0AUwbFEaMiWi"
      },
      "source": [
        "# COMP7404 - Assignment 4\n",
        "\n",
        "## Part A: Conceptual Questions\n",
        "\n",
        "Solve the following questions by hand. No need to implement any code.\n"
      ]
    },
    {
      "cell_type": "markdown",
      "metadata": {
        "id": "Zkb0whVuM2Wc"
      },
      "source": [
        "### A1\n",
        "Consider a Perceptron with 2 inputs and 1 output. Let the weights of the Perceptron be $w_1 = 1$ and $w_2 = 1$ and let the bias be $w_0 = -1.5$. Calculate the output of the following inputs:(0, 0), (1, 0), (0, 1), (1, 1)"
      ]
    },
    {
      "cell_type": "markdown",
      "metadata": {
        "id": "MtGUikOfOYyI"
      },
      "source": [
        "*Your answer here*\n",
        "-1, -1, -1, 1\n"
      ]
    },
    {
      "cell_type": "markdown",
      "metadata": {
        "id": "BtvkvUDHOb9o"
      },
      "source": [
        "###A2\n",
        "Define a perceptron for the following logical functions: AND, NOT, NAND, NOR\n"
      ]
    },
    {
      "cell_type": "markdown",
      "metadata": {
        "id": "v3_Se0meOqxQ"
      },
      "source": [
        "*Your answer here* \n",
        "Φ(z)= 1 if >=0 else -1 \n",
        "AND: ̂y = Φ(-1.5 + x0 + x1);\n",
        "NOT:  ̂y = Φ(-x) ;\n",
        "NAND:  ̂y = Φ(1.5 - x1 - x2);\n",
        "NOR:  ̂y = Φ(0.5 - x1 - x2);\n",
        "\n"
      ]
    },
    {
      "cell_type": "markdown",
      "metadata": {
        "id": "oDwHHY3KSjEh"
      },
      "source": [
        "###A3\n",
        "The parity problem returns 1 if the number of inputs that are 1 is even, and 0 otherwise. Can a perceptron learn this problem for 3 inputs? \n"
      ]
    },
    {
      "cell_type": "markdown",
      "metadata": {
        "id": "VLxZod0-Stj6"
      },
      "source": [
        "*Your answer here*"
      ]
    },
    {
      "cell_type": "markdown",
      "metadata": {
        "id": "SMGxkXbSSwo_"
      },
      "source": [
        "###A4\n",
        "Suppose that the following are a set of point in two classes:\n",
        "\n",
        "*   Class1: $(1, 1), (1, 2), (2, 1)$\n",
        "*   Class2: $(0, 0), (1, 0), (0, 1)$\n",
        "\n",
        "Plot them and find the optimal separating line. What are the support vectors, and what is the meaning?\n"
      ]
    },
    {
      "cell_type": "markdown",
      "metadata": {
        "id": "xjhx822xSjEj"
      },
      "source": [
        "*Your answer here*"
      ]
    },
    {
      "cell_type": "markdown",
      "metadata": {
        "id": "kRke2doCTRWw"
      },
      "source": [
        "###A5\n",
        "Suppose that the probability of five events are $P(first) = 0.5, P(second) = P(third) = P(fourth) = P(fifth) = 0.125$. Calculate the entropy and write down in words what this means. \n"
      ]
    },
    {
      "cell_type": "markdown",
      "metadata": {
        "id": "1g_IC4sbTRdt"
      },
      "source": [
        "*Your answer here* \n",
        "entropy = - (0.125*log2(0.125)*4 + 0.5*log2(0.5)) = 2, this means we have a diversified number of classes in this node."
      ]
    },
    {
      "cell_type": "markdown",
      "metadata": {
        "id": "4Ug_a4eETjq9"
      },
      "source": [
        "###A6\n",
        "Design a decision tree that computes the logical AND function. How does it compare to the Perceptron solution?"
      ]
    },
    {
      "cell_type": "markdown",
      "metadata": {
        "id": "HONNlWWETj49"
      },
      "source": [
        "*Your answer here* <br>\n",
        "            is x1 + x2 > 1.5? <br>\n",
        "              /           \\ <br>\n",
        "             /             \\ <br>\n",
        "          TRUE           FALSE\n",
        "\n",
        "\n",
        "\n",
        "\n",
        "\n",
        "\n",
        "\n",
        "\n"
      ]
    },
    {
      "cell_type": "markdown",
      "metadata": {
        "id": "q-aMRB0VTs-e"
      },
      "source": [
        "###A7\n",
        "Turn the following politically incorrect data into a decision tree to classify which attributes make a person attractive, and then extract the rules. Use the Gini Impurity.\n",
        "\n",
        "| Height  | Hair  | Eyes  | Attractive?  |\n",
        "|:-:|:-:|:-:|:-:|\n",
        "| Small  | Blonde  | Brown  | No  |\n",
        "| Tall  | Dark  | Brown  | No  |\n",
        "| Tall  | Blonde  | Blue  | Yes  |\n",
        "| Tall  | Dark  | Blue  | No  |\n",
        "| Small  | Dark  | Blue  | No  |\n",
        "| Tall  | Red  | Blue  | Yes  |\n",
        "| Tall  | Blonde  | Brown  | No  |\n",
        "| Small  | Blonde  | Blue  | Yes  |\n"
      ]
    },
    {
      "cell_type": "markdown",
      "metadata": {
        "id": "_Zi8zFnrUk6R"
      },
      "source": [
        "*Your answer here* \n",
        "Is the person blonde? - Yes -> Attractive; No -> Not Attractive"
      ]
    },
    {
      "cell_type": "markdown",
      "metadata": {
        "id": "Knh_aBKPUmyl"
      },
      "source": [
        "###A8\n",
        "Suppose we collect data for a group of students in a postgraduate machine learning class with features $x_1$ = hours studies, $x_2$ = undergraduate GPA and label $y$ = receive an A. We fit a logistic regression and produce estimated weights as follows: $w_0 = -6$, $w_1 = 0.05$, $w_2 = 1$.\n",
        "\n",
        "1.  Estimate the probability that a student who studies for 40h and has an undergraduate GPA of 3.5 gets an A in the class\n",
        "2.  How many hours would the student in part 1. need to study to have a 50% chance of getting an A in the class?"
      ]
    },
    {
      "cell_type": "markdown",
      "metadata": {
        "id": "fjyKfm1KW-8b"
      },
      "source": [
        "*Your answer here*"
      ]
    },
    {
      "cell_type": "markdown",
      "metadata": {
        "id": "GXfA8H0PXBUW"
      },
      "source": [
        "###A9\n",
        "Suppose that we take a data set, divide it into equally-sized training and test sets, and then try out two different classification procedures. First we use logistic regression and get an error rate of 20% on the training data and 30% on the test data. Next we use 1-nearest neighbors (i.e., K=1) and get an average error rate (averaged over both test and training data sets) of 18%. Based on these results, which method should we prefer to use for classification of new observations? Why?"
      ]
    },
    {
      "cell_type": "markdown",
      "metadata": {
        "id": "TPLLkUruXH7s"
      },
      "source": [
        "*Your answer here*"
      ]
    },
    {
      "cell_type": "markdown",
      "metadata": {
        "id": "t9C3HzscGJRK"
      },
      "source": [
        "### A10\n",
        "\n",
        "Suppose the features in your training set have very different scales. Which algorithms discussed in class might suffer from this, and how? What can you do about it?\n"
      ]
    },
    {
      "cell_type": "markdown",
      "metadata": {
        "id": "vOldZMVsGMq4"
      },
      "source": [
        "*Your answer here*"
      ]
    },
    {
      "cell_type": "markdown",
      "metadata": {
        "id": "v6_-anGK53ee"
      },
      "source": [
        "### A11\n",
        "\n",
        "\n",
        "If your AdaBoost ensemble underfits the training data, which hyperparameters should you tweak and how?"
      ]
    },
    {
      "cell_type": "markdown",
      "metadata": {
        "id": "nAnz6reT6utg"
      },
      "source": [
        "*Your answer here*"
      ]
    },
    {
      "cell_type": "markdown",
      "metadata": {
        "id": "fsIKbwXx6f6m"
      },
      "source": [
        "### A12\n",
        "\n",
        "What is the benefit of out-of-bag evaluation?"
      ]
    },
    {
      "cell_type": "markdown",
      "metadata": {
        "id": "eotzI3zY6vaj"
      },
      "source": [
        "*Your answer here*"
      ]
    },
    {
      "cell_type": "markdown",
      "metadata": {
        "id": "t5YVqiMV6ml2"
      },
      "source": [
        "### A13\n",
        "\n",
        "What is the difference between hard and soft voting classifiers?"
      ]
    },
    {
      "cell_type": "markdown",
      "metadata": {
        "id": "GrAU8kT-6v5-"
      },
      "source": [
        "*Your answer here*"
      ]
    },
    {
      "cell_type": "markdown",
      "metadata": {
        "id": "uOViY3z7XoZR"
      },
      "source": [
        "## Part B: Applied Questions\n",
        "\n",
        "Solve the following questions by implementing solutions in code."
      ]
    },
    {
      "cell_type": "markdown",
      "metadata": {
        "id": "JkYvVa5pXuCQ"
      },
      "source": [
        "###B1\n",
        "Consider the following Perceptron code."
      ]
    },
    {
      "cell_type": "code",
      "metadata": {
        "id": "_NRaSwsgZyfE"
      },
      "source": [
        "import numpy as np\n",
        "\n",
        "class Perceptron(object):\n",
        "    \"\"\"Perceptron classifier.\n",
        "\n",
        "    Parameters\n",
        "    ------------\n",
        "    eta : float\n",
        "        Learning rate (between 0.0 and 1.0)\n",
        "    n_iter : int\n",
        "        Passes over the training dataset.\n",
        "\n",
        "    Attributes\n",
        "    -----------\n",
        "    w_ : 1d-array\n",
        "        Weights after fitting.\n",
        "    errors_ : list\n",
        "        Number of misclassifications in every epoch.\n",
        "\n",
        "    \"\"\"\n",
        "    def __init__(self, eta=0.01, n_iter=10):\n",
        "        self.eta = eta\n",
        "        self.n_iter = n_iter\n",
        "\n",
        "    def fit(self, X, y):\n",
        "        \"\"\"Fit training data.\n",
        "\n",
        "        Parameters\n",
        "        ----------\n",
        "        X : {array-like}, shape = [n_samples, n_features]\n",
        "            Training vectors, where n_samples is the number of samples and\n",
        "            n_features is the number of features.\n",
        "        y : array-like, shape = [n_samples]\n",
        "            Target values.\n",
        "\n",
        "        Returns\n",
        "        -------\n",
        "        self : object\n",
        "\n",
        "        \"\"\"\n",
        "        self.w_ = np.zeros(1 + X.shape[1])\n",
        "        self.errors_ = []\n",
        "\n",
        "        for _ in range(self.n_iter):\n",
        "            errors = 0\n",
        "            for xi, target in zip(X, y):\n",
        "                update = self.eta * (target - self.predict(xi))\n",
        "                self.w_[1:] += update * xi\n",
        "                self.w_[0] += update\n",
        "                errors += int(update != 0.0)\n",
        "            self.errors_.append(errors)\n",
        "        return self\n",
        "\n",
        "    def net_input(self, X):\n",
        "        \"\"\"Calculate net input\"\"\"\n",
        "        return np.dot(X, self.w_[1:]) + self.w_[0]\n",
        "\n",
        "    def predict(self, X):\n",
        "        \"\"\"Return class label after unit step\"\"\"\n",
        "        return np.where(self.net_input(X) >= 0.0, 1, -1)"
      ],
      "execution_count": null,
      "outputs": []
    },
    {
      "cell_type": "code",
      "metadata": {
        "id": "PRJvrJB3aAYP",
        "colab": {
          "base_uri": "https://localhost:8080/",
          "height": 204
        },
        "outputId": "c116c928-924c-4675-8012-ffb87f354414"
      },
      "source": [
        "import pandas as pd\n",
        "\n",
        "data_src = 'https://archive.ics.uci.edu/ml/machine-learning-databases/iris/iris.data'\n",
        "\n",
        "df = pd.read_csv(data_src, header=None)\n",
        "\n",
        "df.tail()"
      ],
      "execution_count": null,
      "outputs": [
        {
          "output_type": "execute_result",
          "data": {
            "text/html": [
              "<div>\n",
              "<style scoped>\n",
              "    .dataframe tbody tr th:only-of-type {\n",
              "        vertical-align: middle;\n",
              "    }\n",
              "\n",
              "    .dataframe tbody tr th {\n",
              "        vertical-align: top;\n",
              "    }\n",
              "\n",
              "    .dataframe thead th {\n",
              "        text-align: right;\n",
              "    }\n",
              "</style>\n",
              "<table border=\"1\" class=\"dataframe\">\n",
              "  <thead>\n",
              "    <tr style=\"text-align: right;\">\n",
              "      <th></th>\n",
              "      <th>0</th>\n",
              "      <th>1</th>\n",
              "      <th>2</th>\n",
              "      <th>3</th>\n",
              "      <th>4</th>\n",
              "    </tr>\n",
              "  </thead>\n",
              "  <tbody>\n",
              "    <tr>\n",
              "      <th>145</th>\n",
              "      <td>6.7</td>\n",
              "      <td>3.0</td>\n",
              "      <td>5.2</td>\n",
              "      <td>2.3</td>\n",
              "      <td>Iris-virginica</td>\n",
              "    </tr>\n",
              "    <tr>\n",
              "      <th>146</th>\n",
              "      <td>6.3</td>\n",
              "      <td>2.5</td>\n",
              "      <td>5.0</td>\n",
              "      <td>1.9</td>\n",
              "      <td>Iris-virginica</td>\n",
              "    </tr>\n",
              "    <tr>\n",
              "      <th>147</th>\n",
              "      <td>6.5</td>\n",
              "      <td>3.0</td>\n",
              "      <td>5.2</td>\n",
              "      <td>2.0</td>\n",
              "      <td>Iris-virginica</td>\n",
              "    </tr>\n",
              "    <tr>\n",
              "      <th>148</th>\n",
              "      <td>6.2</td>\n",
              "      <td>3.4</td>\n",
              "      <td>5.4</td>\n",
              "      <td>2.3</td>\n",
              "      <td>Iris-virginica</td>\n",
              "    </tr>\n",
              "    <tr>\n",
              "      <th>149</th>\n",
              "      <td>5.9</td>\n",
              "      <td>3.0</td>\n",
              "      <td>5.1</td>\n",
              "      <td>1.8</td>\n",
              "      <td>Iris-virginica</td>\n",
              "    </tr>\n",
              "  </tbody>\n",
              "</table>\n",
              "</div>"
            ],
            "text/plain": [
              "       0    1    2    3               4\n",
              "145  6.7  3.0  5.2  2.3  Iris-virginica\n",
              "146  6.3  2.5  5.0  1.9  Iris-virginica\n",
              "147  6.5  3.0  5.2  2.0  Iris-virginica\n",
              "148  6.2  3.4  5.4  2.3  Iris-virginica\n",
              "149  5.9  3.0  5.1  1.8  Iris-virginica"
            ]
          },
          "metadata": {
            "tags": []
          },
          "execution_count": 2
        }
      ]
    },
    {
      "cell_type": "code",
      "metadata": {
        "id": "L_AlboxFaByl",
        "colab": {
          "base_uri": "https://localhost:8080/",
          "height": 297
        },
        "outputId": "66466f9b-c6d2-4d90-c57c-4ad08d4e8234"
      },
      "source": [
        "%matplotlib inline\n",
        "import matplotlib.pyplot as plt\n",
        "import numpy as np\n",
        "\n",
        "# select setosa and versicolor\n",
        "y = df.iloc[0:100, 4].values\n",
        "y = np.where(y == 'Iris-setosa', -1, 1)\n",
        "\n",
        "# extract sepal length and petal length\n",
        "X = df.iloc[0:100, [0, 2]].values\n",
        "\n",
        "# plot data\n",
        "plt.scatter(X[:50, 0], X[:50, 1],\n",
        "            color='red', marker='o', label='setosa')\n",
        "plt.scatter(X[50:100, 0], X[50:100, 1],\n",
        "            color='blue', marker='x', label='versicolor')\n",
        "\n",
        "plt.xlabel('sepal length [cm]')\n",
        "plt.ylabel('petal length [cm]')\n",
        "plt.legend(loc='upper left')\n",
        "\n",
        "plt.tight_layout()\n",
        "plt.show()"
      ],
      "execution_count": null,
      "outputs": [
        {
          "output_type": "display_data",
          "data": {
            "image/png": "[encoded data removed]",
            "text/plain": [
              "<Figure size 432x288 with 1 Axes>"
            ]
          },
          "metadata": {
            "tags": [],
            "needs_background": "light"
          }
        }
      ]
    },
    {
      "cell_type": "code",
      "metadata": {
        "id": "skqFfQamaDI3"
      },
      "source": [
        "ppn = Perceptron(eta=0.1, n_iter=10)\n",
        "ppn = ppn.fit(X, y)"
      ],
      "execution_count": null,
      "outputs": []
    },
    {
      "cell_type": "code",
      "metadata": {
        "id": "ydG8Th6LaFEh"
      },
      "source": [
        "from matplotlib.colors import ListedColormap\n",
        "\n",
        "from matplotlib.colors import ListedColormap\n",
        "def plot_decision_regions(X, y, classifier, resolution=0.01):\n",
        "    markers = ('s', 'x', 'o', '^', 'v')\n",
        "    colors = ('red', 'blue', 'lightgreen', 'gray', 'cyan')\n",
        "    cmap = ListedColormap(colors[:len(np.unique(y))])\n",
        "    x1_min, x1_max = X[:, 0].min() - 1, X[:, 0].max() + 1\n",
        "    x2_min, x2_max = X[:, 1].min() - 1, X[:, 1].max() + 1\n",
        "    xx1, xx2 = np.meshgrid(np.arange(x1_min, x1_max, resolution),\n",
        "                           np.arange(x2_min, x2_max, resolution))\n",
        "    Z = classifier.predict(np.array([xx1.ravel(), xx2.ravel()]).T)\n",
        "    Z = Z.reshape(xx1.shape)\n",
        "    plt.contourf(xx1, xx2, Z, alpha=0.3, cmap=cmap)\n",
        "    plt.xlim(xx1.min(), xx1.max())\n",
        "    plt.ylim(xx2.min(), xx2.max())\n",
        "    for idx, cl in enumerate(np.unique(y)):\n",
        "        plt.scatter(x=X[y == cl, 0], \n",
        "                    y=X[y == cl, 1],\n",
        "                    alpha=0.8, \n",
        "                    c=colors[idx],\n",
        "                    marker=markers[idx], \n",
        "                    label=cl, \n",
        "                    edgecolor='black')"
      ],
      "execution_count": null,
      "outputs": []
    },
    {
      "cell_type": "markdown",
      "metadata": {
        "id": "8wEkoJNTaHVw"
      },
      "source": [
        "As shown in function plot_decision_regions, the decision regions can be visualized by dense sampling via meshgrid. However, if the grid resolution is not enough, as artificially set below, the boundary will appear inaccurate.\n",
        "\n",
        "Implement function plot_decision_boundary below to analytically compute and plot the decision boundary."
      ]
    },
    {
      "cell_type": "code",
      "metadata": {
        "id": "ETZTKgflaJ-P"
      },
      "source": [
        "def plot_decision_boundary(X, y, classifier):    \n",
        "    \n",
        "    # replace the two lines below with your code\n",
        "    x1_interval = [X[:, 0].min() - 1, X[:, 0].max() + 1]\n",
        "    x2_interval = [X[:, 1].min() - 1, X[:, 1].max() + 1]\n",
        "    \n",
        "    plt.plot(x1_interval, x2_interval, color='green', linewidth=4, label='boundary')"
      ],
      "execution_count": null,
      "outputs": []
    },
    {
      "cell_type": "code",
      "metadata": {
        "id": "3MpX2DdFaLbJ",
        "colab": {
          "base_uri": "https://localhost:8080/",
          "height": 297
        },
        "outputId": "43910980-9230-4c64-8ed0-9cdbfd1c181c"
      },
      "source": [
        "low_res = 0.1 # intentional for this exercise\n",
        "plot_decision_regions(X, y, classifier=ppn, resolution=low_res)\n",
        "plot_decision_boundary(X, y, classifier=ppn)\n",
        "plt.xlabel('sepal length [cm]')\n",
        "plt.ylabel('petal length [cm]')\n",
        "plt.legend(loc='upper left')\n",
        "plt.tight_layout()\n",
        "plt.show()"
      ],
      "execution_count": null,
      "outputs": [
        {
          "output_type": "display_data",
          "data": {
            "image/png": "[encoded data removed]",
            "text/plain": [
              "<Figure size 432x288 with 1 Axes>"
            ]
          },
          "metadata": {
            "tags": [],
            "needs_background": "light"
          }
        }
      ]
    },
    {
      "cell_type": "markdown",
      "metadata": {
        "id": "s9RyhbgDaXSh"
      },
      "source": [
        "###B2\n",
        "\n",
        "In class we applied different scikit-learn classifers for the Iris data set.\n",
        "\n",
        "In this question, we will apply the same set of classifiers over a different data set: hand-written digits.\n",
        "Please write down the code for different classifiers, choose their hyper-parameters, and compare their performance via the accuracy score as in the Iris dataset.\n",
        "Which classifier(s) perform(s) the best and worst, and why?\n",
        "\n",
        "The classifiers include:\n",
        "* perceptron\n",
        "* logistic regression\n",
        "* SVM\n",
        "* decision tree\n",
        "* random forest\n",
        "* KNN\n",
        "\n",
        "The dataset is available as part of scikit learn, as follows."
      ]
    },
    {
      "cell_type": "code",
      "metadata": {
        "id": "G34BD-WdaneG",
        "colab": {
          "base_uri": "https://localhost:8080/"
        },
        "outputId": "4051b857-0712-48a1-a0e3-2900c8645e3a"
      },
      "source": [
        "from sklearn.datasets import load_digits\n",
        "digits = load_digits()\n",
        "\n",
        "X = digits.data # training data\n",
        "y = digits.target # training label\n",
        "\n",
        "print(X.shape)\n",
        "print(y.shape)"
      ],
      "execution_count": null,
      "outputs": [
        {
          "output_type": "stream",
          "text": [
            "(1797, 64)\n",
            "(1797,)\n"
          ],
          "name": "stdout"
        }
      ]
    },
    {
      "cell_type": "code",
      "metadata": {
        "id": "fGu93j6CaqLq",
        "colab": {
          "base_uri": "https://localhost:8080/",
          "height": 602
        },
        "outputId": "8e25454a-cac2-43ef-ec23-abd94f413e8b"
      },
      "source": [
        "import matplotlib.pyplot as plt\n",
        "import pylab as pl\n",
        "import matplotlib as mpl\n",
        "mpl.rcParams['figure.dpi'] = 150\n",
        "num_rows = 4\n",
        "num_cols = 5\n",
        "fig, ax = plt.subplots(nrows=num_rows, ncols=num_cols, sharex=True, sharey=True)\n",
        "ax = ax.flatten()\n",
        "for index in range(num_rows*num_cols):\n",
        "    img = digits.images[index]\n",
        "    label = digits.target[index]\n",
        "    ax[index].imshow(img, cmap='Greys', interpolation='nearest')\n",
        "    ax[index].set_title('digit ' + str(label))\n",
        "ax[0].set_xticks([])\n",
        "ax[0].set_yticks([])\n",
        "plt.tight_layout()\n",
        "plt.show()"
      ],
      "execution_count": null,
      "outputs": [
        {
          "output_type": "display_data",
          "data": {
            "image/png": "[encoded data removed]",
            "text/plain": [
              "<Figure size 900x600 with 20 Axes>"
            ]
          },
          "metadata": {
            "tags": []
          }
        }
      ]
    },
    {
      "cell_type": "markdown",
      "metadata": {
        "id": "Vrz6Lwxja7XB"
      },
      "source": [
        "Date Preprocessing\n",
        "\n",
        "Hint: Divide training and test data set and apply other techinques we have learned if needed."
      ]
    },
    {
      "cell_type": "code",
      "metadata": {
        "id": "OJW5hPNkbAT4"
      },
      "source": [
        "#Your code comes here\n"
      ],
      "execution_count": null,
      "outputs": []
    },
    {
      "cell_type": "markdown",
      "metadata": {
        "id": "GX6bWDjCLoIr"
      },
      "source": [
        "Classifier #1 Perceptron"
      ]
    },
    {
      "cell_type": "code",
      "metadata": {
        "id": "lYkmrjmrLoIr"
      },
      "source": [
        "#Your code, including traing and testing, to observe the accuracies.\n"
      ],
      "execution_count": null,
      "outputs": []
    },
    {
      "cell_type": "markdown",
      "metadata": {
        "id": "yfoFni6tLoIv"
      },
      "source": [
        "Classifier #2 Logistic Regression"
      ]
    },
    {
      "cell_type": "code",
      "metadata": {
        "id": "eggDI2swLoIv"
      },
      "source": [
        "#Your code, including traing and testing, to observe the accuracies.\n"
      ],
      "execution_count": null,
      "outputs": []
    },
    {
      "cell_type": "markdown",
      "metadata": {
        "id": "4hlwLV3RLoIz"
      },
      "source": [
        "Classifier #3 SVM"
      ]
    },
    {
      "cell_type": "code",
      "metadata": {
        "id": "jWracruvLoI0"
      },
      "source": [
        "#Your code, including traing and testing, to observe the accuracies.\n"
      ],
      "execution_count": null,
      "outputs": []
    },
    {
      "cell_type": "markdown",
      "metadata": {
        "id": "OjozjBQ8LoI4"
      },
      "source": [
        "Classifier #4 Decision Tree"
      ]
    },
    {
      "cell_type": "code",
      "metadata": {
        "id": "inw3NjgQLoI4"
      },
      "source": [
        "#Your code, including traing and testing, to observe the accuracies.\n"
      ],
      "execution_count": null,
      "outputs": []
    },
    {
      "cell_type": "markdown",
      "metadata": {
        "id": "hIVcFJhELoI8"
      },
      "source": [
        "Classifer #5 Random Forest"
      ]
    },
    {
      "cell_type": "code",
      "metadata": {
        "id": "ZsFgIgVKLoI8"
      },
      "source": [
        "#Your code, including traing and testing, to observe the accuracies.\n"
      ],
      "execution_count": null,
      "outputs": []
    },
    {
      "cell_type": "markdown",
      "metadata": {
        "id": "OQWwURjyLoI_"
      },
      "source": [
        "Classifier #6 KNN"
      ]
    },
    {
      "cell_type": "code",
      "metadata": {
        "id": "afe9Rn3FLoJA"
      },
      "source": [
        "#Your code, including traing and testing, to observe the accuracies.\n"
      ],
      "execution_count": null,
      "outputs": []
    },
    {
      "cell_type": "markdown",
      "metadata": {
        "id": "gsIa9BsPGr2k"
      },
      "source": [
        "###B3\n",
        "Build a spam classifier:\n",
        "\n",
        "\n",
        "\n",
        "*   Download examples of spam and ham from Apache SpamAssassin’s public datasets.\n",
        "*   Unzip the datasets and familiarize yourself with the data format.\n",
        "*   Split the datasets into a training set and a test set.\n",
        "*   Write a data preparation pipeline to convert each email into a feature vector. Your preparation pipeline should transform an email into a (sparse) vector that indicates the presence or absence of each possible word. For example, if all emails only ever contain four words, “Hello,” “how,” “are,” “you,” then the email “Hello you Hello Hello you” would be converted into a vector [1, 0, 0, 1] (meaning [“Hello” is present, “how” is absent, “are” is absent, “you” is present]), or [3, 0, 0, 2] if you prefer to count the number of occurrences of each word.\n",
        "*   You may want to add hyperparameters to your preparation pipeline to control whether or not to strip off email headers, convert each email to lowercase, remove punctuation, replace all URLs with “URL,” replace all numbers with “NUMBER,” or even perform stemming (i.e., trim off word endings; there are Python libraries available to do this).\n",
        "\n",
        "*   Finally, try out several classifiers and see if you can build a great spam classifier, with both high recall and high precision."
      ]
    },
    {
      "cell_type": "code",
      "metadata": {
        "id": "cos_X9WTAe3C"
      },
      "source": [
        "#Your answer here"
      ],
      "execution_count": null,
      "outputs": []
    }
  ]
}